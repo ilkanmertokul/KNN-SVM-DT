{
  "cells": [
    {
      "cell_type": "markdown",
      "source": [
        "## **Part 1:**\n",
        "### Build a classifier based on KNN (K=4 for testing) using Euclidean distance."
      ],
      "metadata": {
        "id": "A2r6iAOtG6hY"
      }
    },
    {
      "cell_type": "code",
      "source": [
        "from csv import reader\n",
        "from math import sqrt\n",
        "\n",
        "#Parses csv and returns the data.\n",
        "def load_csv(fileName):\n",
        "\tdata = list()\n",
        "\twith open(fileName, 'r') as file:\n",
        "\t\tcsv_reader = reader(file, delimiter = ';')\n",
        "\t\tfor row in csv_reader:\n",
        "\t\t\tif not row:\n",
        "\t\t\t\tcontinue\n",
        "\t\t\tdata.append(row)\n",
        "\treturn data\n",
        "\n",
        "#Transforms the string val to int value.\n",
        "#!!This piece of algorithm (function str_to_int) is built up with help of other sources as internet!!\n",
        "def str_to_val(dataset, column):\n",
        "\tclass_values = [row[column] for row in dataset]\n",
        "\tunique = set(class_values)\n",
        "\tlookup = dict()\n",
        "\tfor i, value in enumerate(unique):\n",
        "\t\tlookup[value] = i\n",
        "\tfor row in dataset:\n",
        "\t\trow[column] = lookup[row[column]]\n",
        "\treturn lookup\n",
        "\n",
        "def str_to_int(dataset, column):\n",
        "  for row in dataset:\n",
        "    row[column] = int(row[column])\n",
        "\n",
        "#Calculates distance between two rows.\n",
        "def calculate_distance(x, y):\n",
        "  distance = 0.0\n",
        "  for i in range(len(x) - 2):\n",
        "    distance += (x[i] - y[i])**2\n",
        "  return sqrt(distance)  \n",
        "\n",
        "#-MAIN---------------------------------\n",
        "\n",
        "strings = [1,2,3,4,6,7,8,10,15,16]\n",
        "ints = [0,5,9,11,12,13,14]\n",
        "dataset = load_csv(\"bank-full.csv\")\n",
        "dataset.pop(0)\n",
        "\n",
        "for val in strings:\n",
        "  str_to_val(dataset, val)\n",
        "for val in ints:\n",
        "  str_to_int(dataset, val)\n",
        "\n",
        "#--"
      ],
      "outputs": [],
      "execution_count": 3,
      "metadata": {
        "id": "IazSrZUhZ06X"
      }
    },
    {
      "cell_type": "code",
      "source": [
        "confision_matrix = [[0,0],[0,0]]\n",
        "result_distance = list()\n",
        "\n",
        "print(f\"Processing...\")\n",
        "for i in range(0,1000):\n",
        "\n",
        "  if i%50 == 0:\n",
        "    print(f\"Calculating, current index= {i} , (1000 is end)\")\n",
        "\n",
        "  #1- calculate distances\n",
        "  for j in range(int(len(dataset)/5),len(dataset)):\n",
        "    result_distance.append((calculate_distance(dataset[i], dataset[j]),dataset[j]))\n",
        "\n",
        "  #2- Sort distances\n",
        "  result_distance.sort()\n",
        "\n",
        "  #3- Take best outcome for first 4\n",
        "  total_no = 0\n",
        "  total_yes = 0\n",
        "  for j in range(0,4):\n",
        "    if result_distance[j][1][len(dataset[j])-1] == 1:\n",
        "      total_no += 1\n",
        "    else:\n",
        "      total_yes +=1  \n",
        "\n",
        "  #4- Fill confusion matrix\n",
        "  if dataset[i][len(dataset[i])-1] == 0:\n",
        "    if total_yes > total_no: #means match\n",
        "      confision_matrix[0][0] += 1\n",
        "    else:\n",
        "      confision_matrix[0][1] += 1\n",
        "  else:\n",
        "    if total_yes < total_no: #means match\n",
        "      confision_matrix[1][1] += 1\n",
        "    else:\n",
        "      confision_matrix[1][0] += 1\n",
        "\n",
        "  result_distance.clear();\n",
        "print(\"finished!\")\n"
      ],
      "outputs": [
        {
          "output_type": "stream",
          "name": "stdout",
          "text": "Processing...\nCalculating, current index= 0 , (1000 is end)\nCalculating, current index= 50 , (1000 is end)\nCalculating, current index= 100 , (1000 is end)\nCalculating, current index= 150 , (1000 is end)\nCalculating, current index= 200 , (1000 is end)\nCalculating, current index= 250 , (1000 is end)\nCalculating, current index= 300 , (1000 is end)\nCalculating, current index= 350 , (1000 is end)\nCalculating, current index= 400 , (1000 is end)\nCalculating, current index= 450 , (1000 is end)\nCalculating, current index= 500 , (1000 is end)\nCalculating, current index= 550 , (1000 is end)\nCalculating, current index= 600 , (1000 is end)\nCalculating, current index= 650 , (1000 is end)\nCalculating, current index= 700 , (1000 is end)\nCalculating, current index= 750 , (1000 is end)\nCalculating, current index= 800 , (1000 is end)\nCalculating, current index= 850 , (1000 is end)\nCalculating, current index= 900 , (1000 is end)\nCalculating, current index= 950 , (1000 is end)\nfinished!\n"
        }
      ],
      "execution_count": 4,
      "metadata": {
        "colab": {
          "base_uri": "https://localhost:8080/"
        },
        "id": "Sf9LaTRYHEEl",
        "outputId": "3eb5d9af-238d-41f8-dcbc-9145e7d48477"
      }
    },
    {
      "cell_type": "code",
      "source": [
        "print(f\"Yes--  accurate : {confision_matrix[0][0]} false: {confision_matrix[0][1]} -> accuracy = {confision_matrix[0][0]/(confision_matrix[0][0]+confision_matrix[0][1])}\")\n",
        "print(f\" No-- accurate : {confision_matrix[1][1]} false: {confision_matrix[1][0]} -> accuracy = {confision_matrix[1][1]/(confision_matrix[1][0]+confision_matrix[1][1])}\")\n"
      ],
      "outputs": [
        {
          "output_type": "stream",
          "name": "stdout",
          "text": "Yes--  accurate : 7 false: 12 -> accuracy = 0.3684210526315789\n No-- accurate : 909 false: 72 -> accuracy = 0.926605504587156\n"
        }
      ],
      "execution_count": 5,
      "metadata": {
        "colab": {
          "base_uri": "https://localhost:8080/"
        },
        "id": "AqKAT-Su40xz",
        "outputId": "0de6b229-44d3-4b25-b393-a8f9a9d85c1b"
      }
    },
    {
      "cell_type": "markdown",
      "source": [
        "(1000 runs) \n",
        "This looks good enough for \"no\" class, but \"yes\" is less accurate. Reason for that is \"yes\" has less occurences in whole dataset compared to \"no\".\n",
        "\n",
        "**It took 5 minutes to calculate!**"
      ],
      "metadata": {
        "id": "OMCLJj3JBQXN"
      }
    },
    {
      "cell_type": "markdown",
      "source": [
        "# **Part 2:**\n",
        "## Build a classifier based on KNN (K=4 for testing) using Manhattan distance. "
      ],
      "metadata": {
        "id": "I2Ey-u7-BHVa"
      }
    },
    {
      "cell_type": "code",
      "source": [
        "def calculate_distance_manhattan(x, y):\n",
        "  distance = 0.0\n",
        "  for i in range(len(x) - 2):\n",
        "    distance += abs(x[i] - y[i])\n",
        "  return distance\n",
        "\n",
        "#-MAIN---------------------------------\n",
        "confision_matrix_2 = [[0,0],[0,0]]\n",
        "result_distance = list()\n",
        "\n",
        "print(f\"Processing...\")\n",
        "for i in range(0,1000):\n",
        "\n",
        "  if i%50 == 0:\n",
        "    print(f\"Calculating, current index= {i} , (1000 is end)\")\n",
        "\n",
        "  #1- calculate distances\n",
        "  for j in range(int(len(dataset)/5),len(dataset)):\n",
        "    result_distance.append((calculate_distance_manhattan(dataset[i], dataset[j]),dataset[j]))\n",
        "\n",
        "  #2- Sort distances\n",
        "  result_distance.sort()\n",
        "\n",
        "  #3- Take best outcome for first 4\n",
        "  total_no = 0\n",
        "  total_yes = 0\n",
        "  for j in range(0,4):\n",
        "    if result_distance[j][1][len(dataset[j])-1] == 1:\n",
        "      total_no += 1\n",
        "    else:\n",
        "      total_yes +=1  \n",
        "\n",
        "  #4- Fill confusion matrix\n",
        "  if dataset[i][len(dataset[i])-1] == 0:\n",
        "    if total_yes > total_no: #means match\n",
        "      confision_matrix_2[0][0] += 1\n",
        "    else:\n",
        "      confision_matrix_2[0][1] += 1\n",
        "  else:\n",
        "    if total_yes < total_no: #means match\n",
        "      confision_matrix_2[1][1] += 1\n",
        "    else:\n",
        "      confision_matrix_2[1][0] += 1\n",
        "\n",
        "  result_distance.clear();\n",
        "print(\"finished!\")"
      ],
      "outputs": [
        {
          "output_type": "stream",
          "name": "stdout",
          "text": "Processing...\nCalculating, current index= 0 , (1000 is end)\nCalculating, current index= 50 , (1000 is end)\nCalculating, current index= 100 , (1000 is end)\nCalculating, current index= 150 , (1000 is end)\nCalculating, current index= 200 , (1000 is end)\nCalculating, current index= 250 , (1000 is end)\nCalculating, current index= 300 , (1000 is end)\nCalculating, current index= 350 , (1000 is end)\nCalculating, current index= 400 , (1000 is end)\nCalculating, current index= 450 , (1000 is end)\nCalculating, current index= 500 , (1000 is end)\nCalculating, current index= 550 , (1000 is end)\nCalculating, current index= 600 , (1000 is end)\nCalculating, current index= 650 , (1000 is end)\nCalculating, current index= 700 , (1000 is end)\nCalculating, current index= 750 , (1000 is end)\nCalculating, current index= 800 , (1000 is end)\nCalculating, current index= 850 , (1000 is end)\nCalculating, current index= 900 , (1000 is end)\nCalculating, current index= 950 , (1000 is end)\nfinished!\n"
        }
      ],
      "execution_count": 164,
      "metadata": {
        "colab": {
          "base_uri": "https://localhost:8080/"
        },
        "id": "vLxrcoZTCEUv",
        "outputId": "5a1d9b17-7822-44b8-9c82-880e6153c03e"
      }
    },
    {
      "cell_type": "code",
      "source": [
        "print(f\"Yes--  accurate : {confision_matrix_2[0][0]} false: {confision_matrix_2[0][1]} -> accuracy = {confision_matrix_2[0][0]/(confision_matrix_2[0][0]+confision_matrix_2[0][1])}\")\n",
        "print(f\" No-- accurate : {confision_matrix_2[1][1]} false: {confision_matrix_2[1][0]} -> accuracy = {confision_matrix_2[1][1]/(confision_matrix_2[1][0]+confision_matrix_2[1][1])}\")"
      ],
      "outputs": [
        {
          "output_type": "stream",
          "name": "stdout",
          "text": "Yes--  accurate : 7 false: 12 -> accuracy = 0.3684210526315789\n No-- accurate : 922 false: 59 -> accuracy = 0.9398572884811417\n"
        }
      ],
      "execution_count": 165,
      "metadata": {
        "colab": {
          "base_uri": "https://localhost:8080/"
        },
        "id": "cmeunRPUFoTA",
        "outputId": "f4ebc71c-afd5-4c24-cb0a-2d12aa9b0360"
      }
    },
    {
      "cell_type": "markdown",
      "source": [
        "(1000 runs) This looks good enough for \"no\" class, but \"yes\" is way less accurate. Reason for that is \"yes\" has less occurences in whole dataset compared to \"no\".\n",
        "\n",
        "**It took 4 minutes to calculate!**"
      ],
      "metadata": {
        "id": "WfnXDC8wnDa8"
      }
    },
    {
      "cell_type": "markdown",
      "source": [
        "# **Part 3:**\n",
        "## Build a classifier based on linear SVM"
      ],
      "metadata": {
        "id": "XRgHeMcVQwgl"
      }
    },
    {
      "cell_type": "code",
      "source": [
        "from re import I\n",
        "import numpy as np\n",
        "from sklearn import svm\n",
        "\n",
        "#--\n",
        "params = np.array(dataset[0:1000])\n",
        "res = list()\n",
        "for i in range(0,1000): \n",
        "  res.append(dataset[i][len(dataset[i])-1])\n",
        "\n",
        "clf = svm.SVC(kernel = 'linear', C = 1.0)\n",
        "clf.fit(params,res)"
      ],
      "outputs": [
        {
          "output_type": "execute_result",
          "execution_count": 66,
          "data": {
            "text/plain": "SVC(kernel='linear')"
          },
          "metadata": {}
        }
      ],
      "execution_count": 66,
      "metadata": {
        "colab": {
          "base_uri": "https://localhost:8080/"
        },
        "id": "-TmsEa1NREkm",
        "outputId": "7d9882ec-0e49-479b-faaf-e202070cb6c2"
      }
    },
    {
      "cell_type": "code",
      "source": [
        "confision_matrix_3 = [[0,0],[0,0]]\n",
        "\n",
        "for i in range(1001,2001):\n",
        "  #Fill confusion matrix\n",
        "  ress = clf.predict([dataset[i]])\n",
        "  if dataset[i][len(dataset[i])-1] == 0:\n",
        "    if  ress == 0: #means match\n",
        "      confision_matrix_3[0][0] += 1\n",
        "    else:\n",
        "      confision_matrix_3[0][1] += 1\n",
        "  else:\n",
        "    if ress == 1: #means match\n",
        "      confision_matrix_3[1][1] += 1\n",
        "    else:\n",
        "      confision_matrix_3[1][0] += 1"
      ],
      "outputs": [],
      "execution_count": 67,
      "metadata": {
        "id": "z_pLGrF6biUN"
      }
    },
    {
      "cell_type": "code",
      "source": [
        "print(f\"Yes--  accurate : {confision_matrix_3[0][0]} false: {confision_matrix_3[0][1]} -> accuracy = {confision_matrix_3[0][0]/(confision_matrix_3[0][0]+confision_matrix_3[0][1])}\")\n",
        "print(f\" No-- accurate : {confision_matrix_3[1][1]} false: {confision_matrix_3[1][0]} -> accuracy = {confision_matrix_3[1][1]/(confision_matrix_3[1][0]+confision_matrix_3[1][1])}\")"
      ],
      "outputs": [
        {
          "output_type": "stream",
          "name": "stdout",
          "text": "Yes--  accurate : 27 false: 0 -> accuracy = 1.0\n No-- accurate : 952 false: 21 -> accuracy = 0.9784172661870504\n"
        }
      ],
      "execution_count": 68,
      "metadata": {
        "colab": {
          "base_uri": "https://localhost:8080/"
        },
        "id": "CWoigVwHgCd6",
        "outputId": "980d75a4-25ff-4588-95d1-c535a7bb43e1"
      }
    },
    {
      "cell_type": "markdown",
      "source": [
        "(1000 runs, linear) This looks really good for both yes and no!\n",
        "\n",
        "**It took 3 minutes to calculate!**"
      ],
      "metadata": {
        "id": "vlpxYTN8gc3Y"
      }
    },
    {
      "cell_type": "markdown",
      "source": [
        "# **Part 4**\n",
        "## Build a classifier based on polynomial SVM. "
      ],
      "metadata": {
        "id": "NP994cJSgtW1"
      }
    },
    {
      "cell_type": "code",
      "source": [
        "clf2 = svm.SVC(kernel = 'poly', degree = 8)\n",
        "clf2.fit(params,res)"
      ],
      "outputs": [
        {
          "output_type": "execute_result",
          "execution_count": 69,
          "data": {
            "text/plain": "SVC(degree=8, kernel='poly')"
          },
          "metadata": {}
        }
      ],
      "execution_count": 69,
      "metadata": {
        "colab": {
          "base_uri": "https://localhost:8080/"
        },
        "id": "K9aX2W1QhLg0",
        "outputId": "2146fe20-c4f7-4583-8418-4fa2b819948a"
      }
    },
    {
      "cell_type": "code",
      "source": [
        "confision_matrix_4 = [[0,0],[0,0]]\n",
        "\n",
        "for i in range(1001,2001):\n",
        "  #Fill confusion matrix\n",
        "  ress = clf2.predict([dataset[i]])\n",
        "  if dataset[i][len(dataset[i])-1] == 0:\n",
        "    if  ress == 0: #means match\n",
        "      confision_matrix_4[0][0] += 1\n",
        "    else:\n",
        "      confision_matrix_4[0][1] += 1\n",
        "  else:\n",
        "    if ress == 1: #means match\n",
        "      confision_matrix_4[1][1] += 1\n",
        "    else:\n",
        "      confision_matrix_4[1][0] += 1"
      ],
      "outputs": [],
      "execution_count": 70,
      "metadata": {
        "id": "ELBEOxv2ha9b"
      }
    },
    {
      "cell_type": "code",
      "source": [
        "print(f\"Yes--  accurate : {confision_matrix_4[0][0]} false: {confision_matrix_4[0][1]} -> accuracy = {confision_matrix_4[0][0]/(confision_matrix_4[0][0]+confision_matrix_4[0][1])}\")\n",
        "print(f\" No-- accurate : {confision_matrix_4[1][1]} false: {confision_matrix_4[1][0]} -> accuracy = {confision_matrix_4[1][1]/(confision_matrix_4[1][0]+confision_matrix_4[1][1])}\")"
      ],
      "outputs": [
        {
          "output_type": "stream",
          "name": "stdout",
          "text": "Yes--  accurate : 1 false: 26 -> accuracy = 0.037037037037037035\n No-- accurate : 971 false: 2 -> accuracy = 0.9979445015416238\n"
        }
      ],
      "execution_count": 71,
      "metadata": {
        "colab": {
          "base_uri": "https://localhost:8080/"
        },
        "id": "ap_nGBdniGX0",
        "outputId": "151347da-5836-4979-92c7-5aa908f6c055"
      }
    },
    {
      "cell_type": "markdown",
      "source": [
        "(1000 runs, polynomial, 8 degree) This looks really good for \"no\" class, but looks terrible for \"yes\".\n",
        "\n",
        "**It took couple of seconds to calculate!**"
      ],
      "metadata": {
        "id": "SquOznY9lCc2"
      }
    },
    {
      "cell_type": "markdown",
      "source": [
        "# **Part 5**\n",
        "## Build a classifier based on DT (Decision Trees). "
      ],
      "metadata": {
        "id": "prho4lHnncq6"
      }
    },
    {
      "cell_type": "code",
      "source": [
        "from sklearn import tree\n",
        "\n",
        "clf3 = tree.DecisionTreeClassifier()\n",
        "clf3 = clf3.fit(params,res)"
      ],
      "outputs": [],
      "execution_count": 73,
      "metadata": {
        "id": "qYxAp67YnjrY"
      }
    },
    {
      "cell_type": "code",
      "source": [
        "confision_matrix_5 = [[0,0],[0,0]]\n",
        "\n",
        "for i in range(1001,2001):\n",
        "  #Fill confusion matrix\n",
        "  ress = clf3.predict([dataset[i]])\n",
        "  if dataset[i][len(dataset[i])-1] == 0:\n",
        "    if  ress == 0: #means match\n",
        "      confision_matrix_5[0][0] += 1\n",
        "    else:\n",
        "      confision_matrix_5[0][1] += 1\n",
        "  else:\n",
        "    if ress == 1: #means match\n",
        "      confision_matrix_5[1][1] += 1\n",
        "    else:\n",
        "      confision_matrix_5[1][0] += 1"
      ],
      "outputs": [],
      "execution_count": 74,
      "metadata": {
        "id": "dK2xzon3n3gu"
      }
    },
    {
      "cell_type": "code",
      "source": [
        "print(f\"Yes--  accurate : {confision_matrix_5[0][0]} false: {confision_matrix_5[0][1]} -> accuracy = {confision_matrix_5[0][0]/(confision_matrix_5[0][0]+confision_matrix_5[0][1])}\")\n",
        "print(f\" No-- accurate : {confision_matrix_5[1][1]} false: {confision_matrix_5[1][0]} -> accuracy = {confision_matrix_5[1][1]/(confision_matrix_5[1][0]+confision_matrix_5[1][1])}\")"
      ],
      "outputs": [
        {
          "output_type": "stream",
          "name": "stdout",
          "text": "Yes--  accurate : 27 false: 0 -> accuracy = 1.0\n No-- accurate : 973 false: 0 -> accuracy = 1.0\n"
        }
      ],
      "execution_count": 75,
      "metadata": {
        "colab": {
          "base_uri": "https://localhost:8080/"
        },
        "id": "a9njxucFn96K",
        "outputId": "2e53cc17-e52f-446f-db24-6c6f28240440"
      }
    },
    {
      "cell_type": "markdown",
      "source": [
        "(1000 runs, desicion tree) This is fully correct for both classes!\n",
        "\n",
        "**It took couple of seconds to calculate!**"
      ],
      "metadata": {
        "id": "bC7J9gqdoHN8"
      }
    }
  ],
  "metadata": {
    "colab": {
      "name": "HW1_okul_ilkanmert_1801042649.ipynb",
      "provenance": [],
      "collapsed_sections": [],
      "toc_visible": true
    },
    "kernelspec": {
      "name": "python3",
      "display_name": "Python 3"
    },
    "language_info": {
      "name": "python"
    },
    "nteract": {
      "version": "nteract-front-end@1.0.0"
    }
  },
  "nbformat": 4,
  "nbformat_minor": 0
}